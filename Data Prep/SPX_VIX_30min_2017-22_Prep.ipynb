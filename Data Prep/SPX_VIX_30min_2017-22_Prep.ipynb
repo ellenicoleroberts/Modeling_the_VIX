{
 "cells": [
  {
   "cell_type": "markdown",
   "id": "4b6f648e-71ca-4e69-a31c-bbbe01fc53dd",
   "metadata": {},
   "source": [
    "# **SPX & VIX Options Data Collection**"
   ]
  },
  {
   "cell_type": "markdown",
   "id": "62c4d0c1-66da-4da1-a87c-f7e649fec65f",
   "metadata": {},
   "source": [
    "NOTE: The OptyX approach predicts the VIX on an intraday scale by using just a subset of the most liquid options. The process of obtaining this specific list of options is detailed within this notebook.  \n",
    "\n",
    "The methodology is as follows: \n",
    "\n",
    "*All options, at any given point in time, must satisfy the following criteria:*\n",
    "\n",
    "*1.) Expiration date between 23 and 37 days in the future*\n",
    "\n",
    "*2.) Bid and ask greater than zero*\n",
    "\n",
    "*3.) Strike within .4% of spot at beginning of day.*"
   ]
  },
  {
   "cell_type": "markdown",
   "id": "744ecf4a-9715-4886-a554-64bb4f990d3a",
   "metadata": {},
   "source": [
    "# __1.) Prepping 30 min SPX options data: *Years 2017 through 2019*__"
   ]
  },
  {
   "cell_type": "markdown",
   "id": "015ed1b7-4fc5-488c-9061-2e065d04677a",
   "metadata": {},
   "source": [
    "### __1.1.) Import data and initial data exploration__"
   ]
  },
  {
   "cell_type": "code",
   "execution_count": null,
   "id": "e9b74ecd-d5fe-4836-9ef3-2db7ca4256c7",
   "metadata": {},
   "outputs": [],
   "source": [
    "#Importing packages\n",
    "\n",
    "import pandas as pd \n",
    "import numpy as np \n",
    "from pathlib import Path \n",
    "import hvplot.pandas\n",
    "import datetime as dt "
   ]
  },
  {
   "cell_type": "code",
   "execution_count": null,
   "id": "d8703da3-04c4-4449-8c28-6e0199974996",
   "metadata": {},
   "outputs": [],
   "source": [
    "#Importing spx_17_19_30min.csv\n",
    "\n",
    "spx_17_19 = pd.read_csv(\n",
    "    Path(\"../Resources/spx_17_19_30min.csv\"),  #NOTE: Too large for Gitbub. Skip to section 3.\n",
    "    index_col='QUOTE_READTIME',\n",
    "    parse_dates=True,\n",
    "    infer_datetime_format=True,\n",
    "    low_memory=False\n",
    ")\n",
    "\n",
    "spx_17_19"
   ]
  },
  {
   "cell_type": "code",
   "execution_count": null,
   "id": "8085f9d0-6eaa-40f4-b623-25598d1af8fe",
   "metadata": {},
   "outputs": [],
   "source": [
    "spx_17_19.columns"
   ]
  },
  {
   "cell_type": "code",
   "execution_count": null,
   "id": "c1dd9d15-9931-4382-b250-70e359ce15e4",
   "metadata": {},
   "outputs": [],
   "source": [
    "#Check date of expirations, ensuring Fridays only\n",
    "\n",
    "freq = spx_17_19['EXPIRE_DATE']\n",
    "freq.value_counts().sort_values(ascending=False).iloc[50:100]"
   ]
  },
  {
   "cell_type": "markdown",
   "id": "447bfa31-0b46-4888-bbcd-228599ea6046",
   "metadata": {},
   "source": [
    "### __1.1.) Selecting only contracts between 27 and 32 days until expiration__"
   ]
  },
  {
   "cell_type": "code",
   "execution_count": null,
   "id": "d1d54ae0-df03-41d1-99dd-41ede8d89d86",
   "metadata": {},
   "outputs": [],
   "source": [
    "#Selecting only contracts with expiration dates between 23 and 37 days in the future\n",
    "\n",
    "spx_17_19 = spx_17_19.loc[(spx_17_19['DTE'] <= 32) & (spx_17_19['DTE'] >= 27)]"
   ]
  },
  {
   "cell_type": "code",
   "execution_count": null,
   "id": "c59c9b5b-cd83-424e-84b9-f151b89d6c9d",
   "metadata": {},
   "outputs": [],
   "source": [
    "spx_17_19"
   ]
  },
  {
   "cell_type": "code",
   "execution_count": null,
   "id": "f449f51b-3c7e-4d08-88db-54f58adac70f",
   "metadata": {},
   "outputs": [],
   "source": [
    "# Checking frequency of DTE values\n",
    "\n",
    "test1 = spx_17_19.DTE.sort_values()\n",
    "freq = pd.DataFrame(test1)\n",
    "freq.value_counts().sort_values(ascending=False).iloc[0:50]"
   ]
  },
  {
   "cell_type": "markdown",
   "id": "fe7acb51-5183-4289-bac8-a0792c23c9ad",
   "metadata": {},
   "source": [
    "### __1.2.) Forming Contract ID__"
   ]
  },
  {
   "cell_type": "code",
   "execution_count": null,
   "id": "c8d07444-a43a-423a-95e7-707ef5cb70b6",
   "metadata": {},
   "outputs": [],
   "source": [
    "spx_17_19['CONTRACT'] = spx_17_19['STRIKE'].astype(str) + spx_17_19['EXPIRE_DATE']"
   ]
  },
  {
   "cell_type": "markdown",
   "id": "2b7e11b3-c563-44e0-b935-2bb7fe4ce0ae",
   "metadata": {},
   "source": [
    "### **1.3.) Inception Filtering Process (selecting only contracts the meet certain criteria at the start of the day)**"
   ]
  },
  {
   "cell_type": "code",
   "execution_count": null,
   "id": "89f3a015-8519-4f1c-a3db-9c5a0f85cc9d",
   "metadata": {},
   "outputs": [],
   "source": [
    "spx_17_19 = spx_17_19.reset_index()"
   ]
  },
  {
   "cell_type": "code",
   "execution_count": null,
   "id": "cbd17389-2baf-4e60-be68-9fd1d33f8cdf",
   "metadata": {},
   "outputs": [],
   "source": [
    "spx_17_19['QUOTE_READTIME'] = spx_17_19['QUOTE_READTIME'].astype(str)"
   ]
  },
  {
   "cell_type": "code",
   "execution_count": null,
   "id": "11a43616-0678-47d7-bb5d-83a7aa2405e3",
   "metadata": {},
   "outputs": [],
   "source": [
    "#INCEPTION, Step 1. Filter by selecting only contracts at the start of the day.\n",
    "\n",
    "start_of_day = spx_17_19.loc[spx_17_19['QUOTE_READTIME'].str.contains('09:30')]\n",
    "start_of_day   "
   ]
  },
  {
   "cell_type": "code",
   "execution_count": null,
   "id": "4b995679-d8fd-453a-9564-bb5e3603d72a",
   "metadata": {},
   "outputs": [],
   "source": [
    "#INCEPTION, Step 2. Filter start-of-day contracts by selecting only those within .4% of strike \n",
    "\n",
    "filt = start_of_day.loc[(start_of_day['STRIKE_DISTANCE_PCT'] <= 0.004)] \n",
    "filt"
   ]
  },
  {
   "cell_type": "code",
   "execution_count": null,
   "id": "1f0bbdf2-6bd2-41be-8167-351c73069131",
   "metadata": {},
   "outputs": [],
   "source": [
    "#INCEPTION, Step 3. Form a list of the contract IDs from the filtered DataFrame.\n",
    "\n",
    "criteria_list = list(filt['CONTRACT'])"
   ]
  },
  {
   "cell_type": "code",
   "execution_count": null,
   "id": "51d03913-4771-408c-9750-da5d53d7e64d",
   "metadata": {},
   "outputs": [],
   "source": [
    "#INCEPTION, Step 4. Get the length of this list.\n",
    "\n",
    "len(criteria_list)"
   ]
  },
  {
   "cell_type": "code",
   "execution_count": null,
   "id": "8dab60d1-5bcb-402f-95db-14a79974a077",
   "metadata": {},
   "outputs": [],
   "source": [
    "#INCEPTION, Step 5. Overlay this list on top of original DataFrame, filtering to keep only these contract IDs that are in the list.\n",
    "\n",
    "spx_17_19_filt = spx_17_19[spx_17_19[\"CONTRACT\"].isin(criteria_list)]"
   ]
  },
  {
   "cell_type": "code",
   "execution_count": null,
   "id": "46e500b0-119f-4348-8e16-ab45de97f13a",
   "metadata": {},
   "outputs": [],
   "source": [
    "spx_17_19_filt"
   ]
  },
  {
   "cell_type": "markdown",
   "id": "a5451f5c-7cc4-40b1-85d3-94334ac6701e",
   "metadata": {},
   "source": [
    "### **1.4.) Changing data types**"
   ]
  },
  {
   "cell_type": "code",
   "execution_count": null,
   "id": "163080ac-b053-4d99-ad4d-412dc68a8e5b",
   "metadata": {},
   "outputs": [],
   "source": [
    "spx_17_19_filt['C_IV'] = pd.to_numeric(spx_17_19_filt['C_IV'], errors = 'coerce')\n",
    "spx_17_19_filt['P_IV'] = pd.to_numeric(spx_17_19_filt['P_IV'], errors = 'coerce')\n",
    "spx_17_19_filt['C_BID'] = pd.to_numeric(spx_17_19_filt['C_BID'], errors = 'coerce')\n",
    "spx_17_19_filt['C_ASK'] = pd.to_numeric(spx_17_19_filt['C_ASK'], errors = 'coerce')"
   ]
  },
  {
   "cell_type": "code",
   "execution_count": null,
   "id": "cc0047e1-9a13-4380-a4e1-6a64326ae7f9",
   "metadata": {},
   "outputs": [],
   "source": [
    "#checking datatype\n",
    "spx_17_19_filt.dtypes"
   ]
  },
  {
   "cell_type": "markdown",
   "id": "d97398b2-ae6f-4d6c-95b5-777f289e5ff4",
   "metadata": {},
   "source": [
    "### __1.5.) Selecting only contracts that have both a bid and ask greater than 0__"
   ]
  },
  {
   "cell_type": "code",
   "execution_count": null,
   "id": "68a32d8b-78c1-4e39-9095-8bc1544ee8c8",
   "metadata": {},
   "outputs": [],
   "source": [
    "spx_17_19_filt2 = spx_17_19_filt.loc[(spx_17_19_filt[' [P_BID]'] > 0) & (spx_17_19_filt['P_ASK'] > 0)]\n",
    "spx_17_19_filt2 = spx_17_19_filt2.loc[(spx_17_19_filt2['C_BID'] > 0) & (spx_17_19_filt2['C_ASK'] > 0)]"
   ]
  },
  {
   "cell_type": "code",
   "execution_count": null,
   "id": "1b8b19c1-dc68-4caa-b0c3-183cf425ab12",
   "metadata": {},
   "outputs": [],
   "source": [
    "spx_17_19_filt2['QUOTE_READTIME'] = pd.to_datetime(spx_17_19_filt2['QUOTE_READTIME'])"
   ]
  },
  {
   "cell_type": "code",
   "execution_count": null,
   "id": "193e5773-3140-46ad-aea6-069e3c6f73ca",
   "metadata": {},
   "outputs": [],
   "source": [
    "spx_17_19_filt2 = spx_17_19_filt2.set_index('QUOTE_READTIME')"
   ]
  },
  {
   "cell_type": "code",
   "execution_count": null,
   "id": "9e868ed3-b2fd-4ec1-be0d-af2df369c320",
   "metadata": {},
   "outputs": [],
   "source": [
    "#Plotting for select time periods, grouping by contracts \n",
    "\n",
    "dftest = spx_17_19_filt2.loc[\"2022-01-03 9:30:00\":\"2022-06-30 16:00:00\"]\n",
    "print(spx_17_19_filt2.iloc[3000])\n",
    "\n",
    "dftest.groupby('CONTRACT')['STRIKE'].plot(figsize=(30,12))\n",
    "dftest.groupby('CONTRACT')['UNDERLYING_LAST'].plot(figsize=(30,12))"
   ]
  },
  {
   "cell_type": "code",
   "execution_count": null,
   "id": "1fbbdef2-4d63-4b06-b91f-3244c5ffe215",
   "metadata": {},
   "outputs": [],
   "source": [
    "spx_17_19_filt2.to_csv(\"../Resources/spx_17_19_prep1_V1.csv\", index=\"QUOTE_READTIME\")"
   ]
  },
  {
   "cell_type": "markdown",
   "id": "39cd99db-91a0-4ecd-aa3e-f0ef12172e4f",
   "metadata": {},
   "source": [
    "# __2.) Prepping 30 min SPX options data: *Years 2020 through 2022*__"
   ]
  },
  {
   "cell_type": "markdown",
   "id": "063ac3a0-5bec-4943-b4e3-de0096fa762f",
   "metadata": {},
   "source": [
    "### __2.0.) Import data and initial data exploration__"
   ]
  },
  {
   "cell_type": "code",
   "execution_count": null,
   "id": "e323ec0e-a03a-4ccb-a6e3-132b1d9b0ead",
   "metadata": {},
   "outputs": [],
   "source": [
    "import pandas as pd \n",
    "import numpy as np \n",
    "from pathlib import Path \n",
    "import hvplot.pandas\n",
    "import datetime as dt "
   ]
  },
  {
   "cell_type": "code",
   "execution_count": null,
   "id": "7290dac2-3b8d-4078-bf68-1f3a0174acf0",
   "metadata": {},
   "outputs": [],
   "source": [
    "#Importing spx_20_22_30min.csv\n",
    "\n",
    "spx_20_22 = pd.read_csv(\n",
    "    Path(\"../Resources/spx_20_22_30min.csv\"),   #NOTE: Too large for Gitbub. Skip to section 3.\n",
    "    index_col='QUOTE_READTIME',\n",
    "    parse_dates=True,\n",
    "    infer_datetime_format=True,\n",
    "    low_memory=False\n",
    ")\n",
    "\n",
    "spx_20_22"
   ]
  },
  {
   "cell_type": "code",
   "execution_count": null,
   "id": "cef7e77d-5a20-41ec-af0f-536bcb177013",
   "metadata": {},
   "outputs": [],
   "source": [
    "spx_20_22.columns"
   ]
  },
  {
   "cell_type": "code",
   "execution_count": null,
   "id": "46a01cb7-027b-4f85-b1d8-f5a9e9245870",
   "metadata": {},
   "outputs": [],
   "source": [
    "#Check date of expirations, ensuring Fridays only\n",
    "\n",
    "freq = spx_20_22['EXPIRE_DATE']\n",
    "freq.value_counts().sort_values(ascending=False).iloc[50:100]"
   ]
  },
  {
   "cell_type": "markdown",
   "id": "f218fb55-c99d-402a-bc23-e6914acf12f3",
   "metadata": {},
   "source": [
    "### __2.1.) Selecting only contracts between 27 and 32 days until expiration__"
   ]
  },
  {
   "cell_type": "code",
   "execution_count": null,
   "id": "c17c4a00-db0f-4bf3-8325-0b1166bf6711",
   "metadata": {},
   "outputs": [],
   "source": [
    "#Selecting only contracts with expiration dates between 23 and 37 days in the future\n",
    "\n",
    "spx_20_22 = spx_20_22.loc[(spx_20_22['DTE'] <= 32) & (spx_20_22['DTE'] >= 27)]"
   ]
  },
  {
   "cell_type": "code",
   "execution_count": null,
   "id": "eec1a5e6-4ae0-4f3b-9399-a1ffa401381b",
   "metadata": {},
   "outputs": [],
   "source": [
    "spx_20_22"
   ]
  },
  {
   "cell_type": "code",
   "execution_count": null,
   "id": "d4da50ee-cf67-451a-ae20-f02ba7aa8231",
   "metadata": {},
   "outputs": [],
   "source": [
    "# Checking frequency of DTE values\n",
    "\n",
    "test1 = spx_20_22.DTE.sort_values()\n",
    "freq = pd.DataFrame(test1)\n",
    "freq.value_counts().sort_values(ascending=False).iloc[0:50]"
   ]
  },
  {
   "cell_type": "markdown",
   "id": "91dd18b2-f767-45e7-ba67-2de1d23475b0",
   "metadata": {},
   "source": [
    "### __2.2.) Forming Contract ID__"
   ]
  },
  {
   "cell_type": "code",
   "execution_count": null,
   "id": "1c5c97d6-b656-494a-ad48-ea8384e32e4d",
   "metadata": {},
   "outputs": [],
   "source": [
    "spx_20_22['CONTRACT'] = spx_20_22['STRIKE'].astype(str) + spx_20_22['EXPIRE_DATE']"
   ]
  },
  {
   "cell_type": "markdown",
   "id": "994ea357-530d-4882-885f-5f9666620974",
   "metadata": {},
   "source": [
    "### **2.3.) Inception Filtering Process (selecting only contracts the meet certain criteria at the start of the day)**"
   ]
  },
  {
   "cell_type": "code",
   "execution_count": null,
   "id": "b62cba07-59a4-4e8a-957e-aa154eb3da9c",
   "metadata": {},
   "outputs": [],
   "source": [
    "spx_20_22 = spx_20_22.reset_index()"
   ]
  },
  {
   "cell_type": "code",
   "execution_count": null,
   "id": "ce048461-39a2-44c8-87ac-f2d800363de0",
   "metadata": {},
   "outputs": [],
   "source": [
    "#Converting QUOTE_READTIME to string to enable parsing apart \n",
    "\n",
    "spx_20_22['QUOTE_READTIME'] = spx_20_22['QUOTE_READTIME'].astype(str)"
   ]
  },
  {
   "cell_type": "code",
   "execution_count": null,
   "id": "15c39e47-448d-4334-9eb7-c41666270bc7",
   "metadata": {},
   "outputs": [],
   "source": [
    "#INCEPTION, Step 1. Filter by selecting only contracts at the start of the day.\n",
    "\n",
    "start_of_day = spx_20_22.loc[spx_20_22['QUOTE_READTIME'].str.contains('09:30')]\n",
    "start_of_day   "
   ]
  },
  {
   "cell_type": "code",
   "execution_count": null,
   "id": "9e169644-e937-4aef-a3be-8c447ed2154d",
   "metadata": {},
   "outputs": [],
   "source": [
    "#INCEPTION, Step 2. Filter start-of-day contracts by selecting only those within .4% of strike.\n",
    "\n",
    "filt = start_of_day.loc[(start_of_day['STRIKE_DISTANCE_PCT'] <= 0.004)] \n",
    "filt"
   ]
  },
  {
   "cell_type": "code",
   "execution_count": null,
   "id": "64417b4d-6baf-4d77-8d0d-0623344a523e",
   "metadata": {},
   "outputs": [],
   "source": [
    "#INCEPTION, Step 3. Form a list of the contract IDs from the filtered DataFrame.\n",
    "\n",
    "criteria_list = list(filt['CONTRACT'])"
   ]
  },
  {
   "cell_type": "code",
   "execution_count": null,
   "id": "08ee17af-c039-49a2-a52c-ad4688f8eb3a",
   "metadata": {},
   "outputs": [],
   "source": [
    "#INCEPTION, Step 4. Get the length of this list.\n",
    "\n",
    "len(criteria_list)"
   ]
  },
  {
   "cell_type": "code",
   "execution_count": null,
   "id": "0aff7e7b-0f9e-4d16-aa1b-88e24db074ec",
   "metadata": {},
   "outputs": [],
   "source": [
    "#INCEPTION, Step 5. Overlay this list on top of original DataFrame, filtering to keep only these contract IDs that are in the list.\n",
    "\n",
    "spx_20_22_filt = spx_20_22[spx_20_22[\"CONTRACT\"].isin(criteria_list)]"
   ]
  },
  {
   "cell_type": "code",
   "execution_count": null,
   "id": "0af4d421-b7a7-4842-a635-8c5e668329fe",
   "metadata": {},
   "outputs": [],
   "source": [
    "spx_20_22_filt"
   ]
  },
  {
   "cell_type": "markdown",
   "id": "5492ee7d-2163-4b37-89ff-43505cf6074e",
   "metadata": {},
   "source": [
    "### **2.4.) Changing data types**"
   ]
  },
  {
   "cell_type": "code",
   "execution_count": null,
   "id": "195a0437-ad79-41cd-b023-9cc9f51ad722",
   "metadata": {},
   "outputs": [],
   "source": [
    "spx_20_22_filt['C_IV'] = pd.to_numeric(spx_20_22_filt['C_IV'], errors = 'coerce')\n",
    "spx_20_22_filt['P_IV'] = pd.to_numeric(spx_20_22_filt['P_IV'], errors = 'coerce')\n",
    "spx_20_22_filt['C_BID'] = pd.to_numeric(spx_20_22_filt['C_BID'], errors = 'coerce')\n",
    "spx_20_22_filt['C_ASK'] = pd.to_numeric(spx_20_22_filt['C_ASK'], errors = 'coerce')\n",
    "\n",
    "spx_20_22_filt['C_DELTA'] = pd.to_numeric(spx_20_22_filt['C_DELTA'], errors = 'coerce')\n",
    "spx_20_22_filt['C_GAMMA'] = pd.to_numeric(spx_20_22_filt['C_GAMMA'], errors = 'coerce')\n",
    "spx_20_22_filt['C_VEGA'] = pd.to_numeric(spx_20_22_filt['C_VEGA'], errors = 'coerce')\n",
    "spx_20_22_filt['C_THETA'] = pd.to_numeric(spx_20_22_filt['C_THETA'], errors = 'coerce')\n",
    "\n",
    "spx_20_22_filt['C_RHO'] = pd.to_numeric(spx_20_22_filt['C_RHO'], errors = 'coerce')\n",
    "spx_20_22_filt['C_LAST'] = pd.to_numeric(spx_20_22_filt['C_LAST'], errors = 'coerce')\n",
    "spx_20_22_filt[' [P_BID]'] = pd.to_numeric(spx_20_22_filt[' [P_BID]'], errors = 'coerce')\n",
    "spx_20_22_filt['P_ASK'] = pd.to_numeric(spx_20_22_filt['P_ASK'], errors = 'coerce')\n",
    "\n",
    "spx_20_22_filt['P_LAST'] = pd.to_numeric(spx_20_22_filt['P_LAST'], errors = 'coerce')\n",
    "spx_20_22_filt['P_DELTA'] = pd.to_numeric(spx_20_22_filt['P_DELTA'], errors = 'coerce')\n",
    "spx_20_22_filt['P_GAMMA'] = pd.to_numeric(spx_20_22_filt['P_GAMMA'], errors = 'coerce')\n",
    "spx_20_22_filt['P_VEGA'] = pd.to_numeric(spx_20_22_filt['P_VEGA'], errors = 'coerce')\n",
    "\n",
    "spx_20_22_filt['P_THETA'] = pd.to_numeric(spx_20_22_filt['P_THETA'], errors = 'coerce')\n",
    "spx_20_22_filt['P_RHO'] = pd.to_numeric(spx_20_22_filt['P_RHO'], errors = 'coerce')"
   ]
  },
  {
   "cell_type": "code",
   "execution_count": null,
   "id": "f122f20d-c5d2-41ed-8127-48da545ccad0",
   "metadata": {},
   "outputs": [],
   "source": [
    "spx_20_22_filt.dtypes"
   ]
  },
  {
   "cell_type": "markdown",
   "id": "c8faf1cb-f2d5-4303-8513-b8f23a014759",
   "metadata": {},
   "source": [
    "### __2.5.) Selecting only contracts that have both a bid and ask greater than 0__"
   ]
  },
  {
   "cell_type": "code",
   "execution_count": null,
   "id": "ed1d1da5-451d-45ba-bb72-4153e3216525",
   "metadata": {},
   "outputs": [],
   "source": [
    "spx_20_22_filt2 = spx_20_22_filt.loc[(spx_20_22_filt[' [P_BID]'] > 0) & (spx_20_22_filt['P_ASK'] > 0)]\n",
    "spx_20_22_filt2 = spx_20_22_filt2.loc[(spx_20_22_filt2['C_BID'] > 0) & (spx_20_22_filt2['C_ASK'] > 0)]"
   ]
  },
  {
   "cell_type": "code",
   "execution_count": null,
   "id": "c8b40fc1-d3ab-4bb1-bd68-cb3ec1d8b78b",
   "metadata": {},
   "outputs": [],
   "source": [
    "spx_20_22_filt2['QUOTE_READTIME'] = pd.to_datetime(spx_20_22_filt2['QUOTE_READTIME'])"
   ]
  },
  {
   "cell_type": "code",
   "execution_count": null,
   "id": "e55d8697-8e08-4494-bca1-796430a14fe6",
   "metadata": {},
   "outputs": [],
   "source": [
    "spx_20_22_filt2 = spx_20_22_filt2.set_index('QUOTE_READTIME')"
   ]
  },
  {
   "cell_type": "code",
   "execution_count": null,
   "id": "9a52509b-007d-4670-9cb9-1a8d67255877",
   "metadata": {},
   "outputs": [],
   "source": [
    "spx_20_22_filt2"
   ]
  },
  {
   "cell_type": "code",
   "execution_count": null,
   "id": "08ab7ea9-bb6e-4e85-9aed-a8537c1a11eb",
   "metadata": {},
   "outputs": [],
   "source": [
    "spx_20_22_filt2.to_csv(\"../Resources/spx_20_22_prep1_V1.csv\", index=\"QUOTE_READTIME\")"
   ]
  },
  {
   "cell_type": "markdown",
   "id": "eb8624d1-7b86-40b9-af00-5dd6ff1057bb",
   "metadata": {},
   "source": [
    "# __3.) Combining SPX Options Data: *Years 2017 through 2019* with *Years 2020 through 2022*__"
   ]
  },
  {
   "cell_type": "markdown",
   "id": "b08097bc-b6e4-4f75-934a-25736e6d1838",
   "metadata": {},
   "source": [
    "### __3.1.) Imports__"
   ]
  },
  {
   "cell_type": "code",
   "execution_count": null,
   "id": "fa237a8b-2a16-418b-91ed-2746c2cb2e36",
   "metadata": {},
   "outputs": [],
   "source": [
    "#Years 2017 through 2019, spx_17_19_prep1_V1.csv\n",
    "\n",
    "spx_17_19_ready = pd.read_csv(\n",
    "    Path(\"../Resources/spx_17_19_prep1_V1.csv\"),\n",
    "    index_col='QUOTE_READTIME',\n",
    "    parse_dates=True,\n",
    "    infer_datetime_format=True,\n",
    "    low_memory=False\n",
    ")\n",
    "\n",
    "spx_17_19_ready "
   ]
  },
  {
   "cell_type": "code",
   "execution_count": null,
   "id": "e78e5eaf-d3d6-44ae-b746-08ba3ead06a2",
   "metadata": {},
   "outputs": [],
   "source": [
    "# Years 2020 through 2022, spx_20_22_prep1_V1.csv\n",
    "\n",
    "spx_20_22_ready = pd.read_csv(\n",
    "    Path(\"../Resources/spx_20_22_prep1_V1.csv\"),\n",
    "    index_col='QUOTE_READTIME',\n",
    "    parse_dates=True,\n",
    "    infer_datetime_format=True,\n",
    "    low_memory=False\n",
    ")\n",
    "\n",
    "spx_20_22_ready"
   ]
  },
  {
   "cell_type": "markdown",
   "id": "92a145b7-41a1-44fc-97ce-a8f7606cfd3c",
   "metadata": {},
   "source": [
    "### __3.2.) Concatinating both periods__"
   ]
  },
  {
   "cell_type": "code",
   "execution_count": null,
   "id": "2e115dc1-da3b-47dc-954e-0fd6baa8902e",
   "metadata": {},
   "outputs": [],
   "source": [
    "spx_17_22 = pd.concat([spx_17_19_ready, spx_20_22_ready])"
   ]
  },
  {
   "cell_type": "code",
   "execution_count": null,
   "id": "0161f3d3-fbaa-4773-af60-440c36e789c9",
   "metadata": {},
   "outputs": [],
   "source": [
    "spx_17_22"
   ]
  },
  {
   "cell_type": "code",
   "execution_count": null,
   "id": "abc1187c-f26b-431b-b442-c237cb311999",
   "metadata": {},
   "outputs": [],
   "source": [
    "spx_17_22 = spx_17_22.dropna()"
   ]
  },
  {
   "cell_type": "code",
   "execution_count": null,
   "id": "3009997a-ada4-4c3c-969d-f1dd69f956e0",
   "metadata": {},
   "outputs": [],
   "source": [
    "spx_17_22"
   ]
  },
  {
   "cell_type": "code",
   "execution_count": null,
   "id": "3400caa2-bc97-4d6a-b94a-3ead32dc9931",
   "metadata": {},
   "outputs": [],
   "source": [
    "spx_17_22.to_csv(\"../Resources/spx_17_22.csv\", index=\"QUOTE_READTIME\")"
   ]
  },
  {
   "cell_type": "markdown",
   "id": "32ef33bf-ab42-47f2-8600-5768e6c14c33",
   "metadata": {},
   "source": [
    "# __4.) Prepping 30 min VIX Data: *Years 2017 through 2022*__"
   ]
  },
  {
   "cell_type": "markdown",
   "id": "02392e55-d163-4d2d-aece-f070257279cf",
   "metadata": {},
   "source": [
    "### __4.1.) Import and Filtering__"
   ]
  },
  {
   "cell_type": "code",
   "execution_count": null,
   "id": "38440f8d-fd9f-4e9a-bc3f-e5a8d4d4117b",
   "metadata": {},
   "outputs": [],
   "source": [
    "# Importing VIX data, years 2017 through 2022\n",
    "\n",
    "vix = pd.read_csv(\n",
    "    Path(\"../Resources/vix30min.csv\"),\n",
    "    index_col='QUOTE_READTIME',\n",
    "    parse_dates=True,\n",
    "    infer_datetime_format=True,\n",
    "    low_memory=False\n",
    ")\n",
    "\n",
    "vix"
   ]
  },
  {
   "cell_type": "code",
   "execution_count": null,
   "id": "eaad431a-55aa-421f-9bf5-719477041081",
   "metadata": {},
   "outputs": [],
   "source": [
    "vix = vix[['VIX']]"
   ]
  },
  {
   "cell_type": "code",
   "execution_count": null,
   "id": "105c0254-4a96-40a5-8ca2-a8469d4ae6a3",
   "metadata": {},
   "outputs": [],
   "source": [
    "vix"
   ]
  },
  {
   "cell_type": "code",
   "execution_count": null,
   "id": "5ef135d2-507d-4fbb-a4ee-bd64cc996a6b",
   "metadata": {},
   "outputs": [],
   "source": [
    "vix.to_csv(\"../Resources/vix_final_30.csv\", index=\"QUOTE_READTIME\")"
   ]
  },
  {
   "cell_type": "markdown",
   "id": "b823337a-8581-4b17-b946-63366e9a331f",
   "metadata": {},
   "source": [
    "# __5.) Calculating weights for each strike price__"
   ]
  },
  {
   "cell_type": "code",
   "execution_count": null,
   "id": "0e279e62-7bf8-40fd-9913-39bd748f941a",
   "metadata": {},
   "outputs": [],
   "source": [
    "import pandas as pd \n",
    "import numpy as np \n",
    "from pathlib import Path \n",
    "import hvplot.pandas\n",
    "import datetime as dt "
   ]
  },
  {
   "cell_type": "code",
   "execution_count": null,
   "id": "369488e8-6a03-48fb-ac8f-b64bcf4737d0",
   "metadata": {},
   "outputs": [],
   "source": [
    "# Years 2020 through 2022\n",
    "\n",
    "vix_spx = pd.read_csv(\n",
    "    Path(\"../Resources/spx_17_22.csv\"),\n",
    "    index_col='QUOTE_READTIME',\n",
    "    parse_dates=True,\n",
    "    infer_datetime_format=True,\n",
    "    low_memory=False\n",
    ")\n",
    "\n",
    "vix_spx"
   ]
  },
  {
   "cell_type": "code",
   "execution_count": null,
   "id": "52367b52-12b8-4912-b460-7e11da9452c6",
   "metadata": {},
   "outputs": [],
   "source": [
    "#Selecting only STRIKE column and placing into a new DataFrame, \"strikes\"\n",
    "\n",
    "strikes = vix_spx[['STRIKE']]\n",
    "strikes"
   ]
  },
  {
   "cell_type": "code",
   "execution_count": null,
   "id": "dedf1002-62d9-462a-9cbf-7bae221368c4",
   "metadata": {},
   "outputs": [],
   "source": [
    "#Calculating each strike's impact on the VIX with (delta K / K^2)\n",
    "\n",
    "strikes['Weights'] = (((strikes.shift(-1)) - (strikes.shift(1)))/2) / (strikes**2)"
   ]
  },
  {
   "cell_type": "code",
   "execution_count": null,
   "id": "ca4d4b04-25df-4848-a2b1-6cff9b983c16",
   "metadata": {},
   "outputs": [],
   "source": [
    "#Scaling so weights are in interpretable format\n",
    "\n",
    "strikes['Weights'] = strikes['Weights']*1e6\n",
    "strikes"
   ]
  },
  {
   "cell_type": "code",
   "execution_count": null,
   "id": "c7392860-3ca3-41b1-b1d8-ad16acda5aa3",
   "metadata": {},
   "outputs": [],
   "source": [
    "#Forward filling all NaNs and then backfilling just the first NaN\n",
    "\n",
    "strikes = strikes.ffill()\n",
    "strikes = strikes.bfill()"
   ]
  },
  {
   "cell_type": "code",
   "execution_count": null,
   "id": "97cf9457-69a0-4655-962b-826b3756d003",
   "metadata": {},
   "outputs": [],
   "source": [
    "strikes.head(50)I "
   ]
  },
  {
   "cell_type": "code",
   "execution_count": null,
   "id": "973a18c5-7548-450e-9121-4113918c35f8",
   "metadata": {},
   "outputs": [],
   "source": [
    "strikes = strikes.sort_values(by=[\"QUOTE_READTIME\", \"STRIKE\"])"
   ]
  },
  {
   "cell_type": "code",
   "execution_count": null,
   "id": "cfc79143-ce22-49af-a2b8-ca542c324392",
   "metadata": {},
   "outputs": [],
   "source": [
    "strikes"
   ]
  },
  {
   "cell_type": "code",
   "execution_count": null,
   "id": "1f0b34ee-6a47-4de4-873b-afae8bbc303d",
   "metadata": {},
   "outputs": [],
   "source": [
    "#Merging strikes DataFrame (contains weights for each strike) with vix_spx\n",
    "\n",
    "vix_spx = vix_spx.merge(strikes, on=['QUOTE_READTIME', 'STRIKE'])"
   ]
  },
  {
   "cell_type": "code",
   "execution_count": null,
   "id": "bf385cbe-fb4b-40ca-a3dd-eb7f60543319",
   "metadata": {},
   "outputs": [],
   "source": [
    "vix_spx.reset_index(inplace=True)\n",
    "vix_spx.head()"
   ]
  },
  {
   "cell_type": "code",
   "execution_count": null,
   "id": "63264584-fd59-4211-be59-3b4d4941f13f",
   "metadata": {},
   "outputs": [],
   "source": [
    "vix_spx = vix_spx.drop(columns=['EXPIRE_DATE'])\n",
    "vix_spx = vix_spx.drop(columns=['CONTRACT'])"
   ]
  },
  {
   "cell_type": "code",
   "execution_count": null,
   "id": "35e98411-56a8-4925-b2d4-acba366816d1",
   "metadata": {},
   "outputs": [],
   "source": [
    "vix_spx"
   ]
  },
  {
   "cell_type": "code",
   "execution_count": null,
   "id": "5156828b-928f-47e0-9eeb-3665af849952",
   "metadata": {},
   "outputs": [],
   "source": [
    "vix_spx.to_csv('../Resources/vix_spx_weighted.csv', index=None)"
   ]
  },
  {
   "cell_type": "markdown",
   "id": "2d4b3e19-dc2c-4aaf-b869-56c399a7b61c",
   "metadata": {},
   "source": [
    "# __5.) Calculating weighted averages for each feature__"
   ]
  },
  {
   "cell_type": "code",
   "execution_count": null,
   "id": "4a67439f-1319-4edf-9877-5f5bee55461c",
   "metadata": {},
   "outputs": [],
   "source": [
    "#Importing vix_spx_weighted.csv\n",
    "\n",
    "vix_spx = pd.read_csv(\n",
    "    Path(\"../Resources/vix_spx_weighted.csv\"),\n",
    "    index_col='QUOTE_READTIME',\n",
    "    parse_dates=True,\n",
    "    infer_datetime_format=True,\n",
    "    low_memory=False\n",
    ")\n",
    "vix_spx"
   ]
  },
  {
   "cell_type": "code",
   "execution_count": null,
   "id": "c2b1f03c-cd5a-487f-9596-ae69ed76f3bf",
   "metadata": {},
   "outputs": [],
   "source": [
    "#Dropping columns note needed for LSTM\n",
    "\n",
    "vix_spx = vix_spx.drop(columns=['C_LAST', 'P_LAST'])"
   ]
  },
  {
   "cell_type": "code",
   "execution_count": null,
   "id": "7e63fe5e-468b-4016-80ea-ee68c7b8102a",
   "metadata": {},
   "outputs": [],
   "source": [
    "#Calculating premiums for both calls and puts\n",
    "\n",
    "vix_spx['C_Premium'] = (vix_spx['C_BID'] + vix_spx['C_ASK']) / 2\n",
    "vix_spx['P_Premium'] = (vix_spx[' [P_BID]'] + vix_spx['P_ASK']) / 2\n",
    "\n",
    "vix_spx.head()"
   ]
  },
  {
   "cell_type": "code",
   "execution_count": null,
   "id": "00f40474-0f8c-4283-83df-fb4ca004133d",
   "metadata": {},
   "outputs": [],
   "source": [
    "#Dropping columns note needed for LSTM\n",
    "\n",
    "vix_spx = vix_spx.drop(columns=['C_BID', 'C_ASK', ' [P_BID]', 'P_ASK'])"
   ]
  },
  {
   "cell_type": "code",
   "execution_count": null,
   "id": "e69de6ed-ee0f-4132-81eb-d779b108b75a",
   "metadata": {},
   "outputs": [],
   "source": [
    "col_count = vix_spx.shape[1]\n",
    "col_count"
   ]
  },
  {
   "cell_type": "code",
   "execution_count": null,
   "id": "0309e952-f761-4093-82e1-092f34ca5589",
   "metadata": {},
   "outputs": [],
   "source": [
    "vix_spx.iloc[:, 1]"
   ]
  },
  {
   "cell_type": "code",
   "execution_count": null,
   "id": "963b1bad-f245-466d-8b72-65c5a2ad68d0",
   "metadata": {},
   "outputs": [],
   "source": [
    "vix_spx.reset_index(inplace=True)"
   ]
  },
  {
   "cell_type": "code",
   "execution_count": null,
   "id": "48ae118b-18d3-4e48-b842-89fa12c5dcd4",
   "metadata": {},
   "outputs": [],
   "source": [
    "#Creating aggregation function for calculating weighted means. Groups by QUOTE_READTIME when called.\n",
    "\n",
    "def grouped_weighted_avg(values, weights, by):\n",
    "    return (values * weights).groupby(by).sum() / weights.groupby(by).sum()"
   ]
  },
  {
   "cell_type": "code",
   "execution_count": null,
   "id": "2a37f473-23e1-4d57-b274-322c96e8be65",
   "metadata": {},
   "outputs": [],
   "source": [
    "#Looping through each column to calculate weighted means for each timestamp\n",
    "\n",
    "df_dict = {}\n",
    "\n",
    "for i in range(1, (col_count)+1):\n",
    "    col_name = vix_spx.columns[i]\n",
    "    series = grouped_weighted_avg(vix_spx.iloc[:, i], vix_spx[\"Weights\"], vix_spx[\"QUOTE_READTIME\"])\n",
    "    df_i = pd.DataFrame(data=[series], index=[col_name])\n",
    "    df_i = df_i.T\n",
    "    df_i.index = pd.to_datetime(df_i.index)\n",
    "    df_dict[col_name] = series"
   ]
  },
  {
   "cell_type": "code",
   "execution_count": null,
   "id": "929ebd64-4e60-431a-bf36-7d49e2fe1db4",
   "metadata": {},
   "outputs": [],
   "source": [
    "#Creating a DataFrame from the dictionary created in the for_loop directly above\n",
    "\n",
    "vix_spx_w = pd.DataFrame(data=df_dict)"
   ]
  },
  {
   "cell_type": "code",
   "execution_count": null,
   "id": "64e0253a-4e65-4351-acc6-a989946c27c0",
   "metadata": {},
   "outputs": [],
   "source": [
    "vix_spx_w = vix_spx_w.drop(columns=['Weights'])"
   ]
  },
  {
   "cell_type": "code",
   "execution_count": null,
   "id": "309cbded-d3f9-4573-ac0a-8163ece7001f",
   "metadata": {},
   "outputs": [],
   "source": [
    "vix_spx_w.columns"
   ]
  },
  {
   "cell_type": "code",
   "execution_count": null,
   "id": "5686c371-4d4e-4f6d-a815-56e8e15e5f43",
   "metadata": {},
   "outputs": [],
   "source": [
    "vix_spx_w"
   ]
  },
  {
   "cell_type": "code",
   "execution_count": null,
   "id": "eefe0b79-0e9f-48e2-99e4-0e11a6653f9d",
   "metadata": {},
   "outputs": [],
   "source": [
    "vix_spx_w.to_csv(\"../Resources/vix_spx_w.csv\")"
   ]
  },
  {
   "cell_type": "markdown",
   "id": "d681a6d0-06df-455a-88b7-2029051d1258",
   "metadata": {},
   "source": [
    "# __7.) Combining SPX Options Data with VIX Data: *Years 2017 through 2022*__"
   ]
  },
  {
   "cell_type": "markdown",
   "id": "96737f5f-f174-4275-b857-fdd8c5a382c1",
   "metadata": {},
   "source": [
    "### __7.1) Imports__"
   ]
  },
  {
   "cell_type": "code",
   "execution_count": null,
   "id": "1805b2d0-e2ae-4ec7-ad21-05f875820e90",
   "metadata": {},
   "outputs": [],
   "source": [
    "import pandas as pd \n",
    "import numpy as np \n",
    "from pathlib import Path \n",
    "import hvplot.pandas\n",
    "import datetime as dt \n",
    "from functools import reduce"
   ]
  },
  {
   "cell_type": "code",
   "execution_count": null,
   "id": "0a2c241b-30c7-4d07-9474-f5d6251badf8",
   "metadata": {},
   "outputs": [],
   "source": [
    "# Importing VIX data, years 2017 through 2022\n",
    "\n",
    "vix_final = pd.read_csv(\n",
    "    Path(\"../Resources/vix_final_30.csv\"),\n",
    "    index_col='QUOTE_READTIME',\n",
    "    parse_dates=True,\n",
    "    infer_datetime_format=True,\n",
    "    low_memory=False\n",
    ")\n",
    "\n",
    "vix_final"
   ]
  },
  {
   "cell_type": "code",
   "execution_count": null,
   "id": "362649ef-a19a-4a0a-8abd-8f655b0a5f2d",
   "metadata": {},
   "outputs": [],
   "source": [
    "# Importing SPX data, years 2017 through 2022\n",
    "\n",
    "spx_final = pd.read_csv(\n",
    "    Path(\"../Resources/vix_spx_w.csv\"),\n",
    "    index_col='QUOTE_READTIME',\n",
    "    parse_dates=True,\n",
    "    infer_datetime_format=True,\n",
    "    low_memory=False\n",
    ")\n",
    "\n",
    "spx_final"
   ]
  },
  {
   "cell_type": "markdown",
   "id": "a66f493e-b7b1-42a7-b19e-10ac7cb76f24",
   "metadata": {},
   "source": [
    "### __7.2.) Concatinating VIX with SPX data, 2017 through 2022__"
   ]
  },
  {
   "cell_type": "code",
   "execution_count": null,
   "id": "9adac62b-5f61-4f3b-ad27-c9f079258c35",
   "metadata": {},
   "outputs": [],
   "source": [
    "vix_spx = pd.merge_asof(spx_final, vix_final, on='QUOTE_READTIME')\n",
    "vix_spx.isna().sum().sum()"
   ]
  },
  {
   "cell_type": "code",
   "execution_count": null,
   "id": "b7683b82-69ef-48e5-974f-2284c86f74f1",
   "metadata": {},
   "outputs": [],
   "source": [
    "vix_spx = vix_spx.set_index('QUOTE_READTIME')\n",
    "vix_spx"
   ]
  },
  {
   "cell_type": "code",
   "execution_count": null,
   "id": "fad4ad91-fc54-4312-a9a5-3e1ba0d08793",
   "metadata": {},
   "outputs": [],
   "source": [
    "#Re-arranging column order\n",
    "\n",
    "VIX_col = vix_spx['VIX']\n",
    "vix_spx = vix_spx.drop(columns=['VIX'])\n",
    "vix_spx.insert(loc=0, column='VIX', value=VIX_col)\n",
    "vix_spx"
   ]
  },
  {
   "cell_type": "code",
   "execution_count": null,
   "id": "fab30a37-923f-4e07-a941-239efac6f35d",
   "metadata": {},
   "outputs": [],
   "source": [
    "vix_spx.to_csv(\"../Resources/vix_spx_ready.csv\")"
   ]
  }
 ],
 "metadata": {
  "kernelspec": {
   "display_name": "Python 3 (ipykernel)",
   "language": "python",
   "name": "python3"
  },
  "language_info": {
   "codemirror_mode": {
    "name": "ipython",
    "version": 3
   },
   "file_extension": ".py",
   "mimetype": "text/x-python",
   "name": "python",
   "nbconvert_exporter": "python",
   "pygments_lexer": "ipython3",
   "version": "3.7.13"
  }
 },
 "nbformat": 4,
 "nbformat_minor": 5
}
