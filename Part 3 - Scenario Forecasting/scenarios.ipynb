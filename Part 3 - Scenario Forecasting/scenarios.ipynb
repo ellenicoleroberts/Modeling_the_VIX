{
 "cells": [
  {
   "cell_type": "markdown",
   "id": "ad8563da-15ff-4bf9-aa6d-23b1f0ef6ca4",
   "metadata": {},
   "source": [
    "# __Scenario Forecasting__"
   ]
  },
  {
   "cell_type": "markdown",
   "id": "2429c9ad-ae0d-4f6b-bf48-af508aee9f61",
   "metadata": {},
   "source": [
    "## __Scenario A:__\n",
    "In this scenario, we are forecasting a situation where a new aggresive virus broke out and had a downstream impact on supply chain flow.\n",
    "For this forecast we explore the relationship when the Equity Market Volatility Infectious Disease Tracker is showing concerning numbers, and the supply chain stress indicator is signaling trouble, while economic policy is uncertain."
   ]
  },
  {
   "cell_type": "code",
   "execution_count": null,
   "id": "9996b2e3-a634-45f9-b07a-967807a63376",
   "metadata": {},
   "outputs": [],
   "source": [
    "import pandas as pd \n",
    "import numpy as np \n",
    "from pathlib import Path \n",
    "import datetime as dt "
   ]
  },
  {
   "cell_type": "code",
   "execution_count": null,
   "id": "0f2ce0c5-e101-4cff-ab58-068658d750b7",
   "metadata": {},
   "outputs": [],
   "source": [
    "macro_df = pd.read_csv(\n",
    "    Path(\"./Resources/macro_df.csv\"),\n",
    "    index_col='QUOTE_READTIME',\n",
    "    parse_dates=True,\n",
    "    infer_datetime_format=True\n",
    ") "
   ]
  },
  {
   "cell_type": "code",
   "execution_count": null,
   "id": "70455ec7-60bd-4e71-ab74-054d2c2e20cc",
   "metadata": {},
   "outputs": [],
   "source": [
    "inf_df = pd.read_csv(\n",
    "    Path(\"./Resources/inflation.csv\"),\n",
    "    parse_dates=True,\n",
    "    infer_datetime_format=True\n",
    ") "
   ]
  },
  {
   "cell_type": "code",
   "execution_count": null,
   "id": "9ff6168f-5d09-4aeb-85a5-1949abfaf0d0",
   "metadata": {},
   "outputs": [],
   "source": [
    "inf_df.rename(columns = {'DATE': 'QUOTE_READTIME', 'CPIAUCSL_PC1': 'INF'}, inplace = True)"
   ]
  },
  {
   "cell_type": "code",
   "execution_count": null,
   "id": "67520a5e-0fb2-4495-9c49-d0ce97bb20e1",
   "metadata": {},
   "outputs": [],
   "source": [
    "inf_df['QUOTE_READTIME'] = pd.to_datetime(inf_df['QUOTE_READTIME'])"
   ]
  },
  {
   "cell_type": "code",
   "execution_count": null,
   "id": "24d6ec97-49fd-4a38-b7c0-f0d194986a64",
   "metadata": {},
   "outputs": [],
   "source": [
    "macro_df = pd.merge_asof(macro_df, inf_df, on='QUOTE_READTIME')"
   ]
  },
  {
   "cell_type": "code",
   "execution_count": null,
   "id": "f1179816-92d6-4d48-bc83-f2ef95b00308",
   "metadata": {},
   "outputs": [],
   "source": [
    "macro_df.head()"
   ]
  },
  {
   "cell_type": "code",
   "execution_count": null,
   "id": "dacfc98b-c4b4-4dc1-abfd-0b4baade91d9",
   "metadata": {},
   "outputs": [],
   "source": [
    "macro_df.set_index(('QUOTE_READTIME'), inplace = True)"
   ]
  },
  {
   "cell_type": "code",
   "execution_count": null,
   "id": "9b5dc230-8a3c-4137-a408-d76b99257cd9",
   "metadata": {},
   "outputs": [],
   "source": [
    "macro_df"
   ]
  },
  {
   "cell_type": "code",
   "execution_count": null,
   "id": "3788b01c-17b3-4002-a386-d2e0526ad58c",
   "metadata": {},
   "outputs": [],
   "source": [
    "macro_df1 = macro_df.loc['2021-01-01':'2022-08-17'].copy()"
   ]
  },
  {
   "cell_type": "code",
   "execution_count": null,
   "id": "24875479-c917-4c5c-acae-6d999c57bcb3",
   "metadata": {},
   "outputs": [],
   "source": [
    "macro_df1.head()"
   ]
  },
  {
   "cell_type": "code",
   "execution_count": null,
   "id": "8f5290a0-538d-40d0-b1e1-cc17d69e02c1",
   "metadata": {},
   "outputs": [],
   "source": [
    "macro_df1.drop(columns=[\"VVIX\", \"SPX_Vol\", \"VIXFVolChange\", \"USD_RUB\",\"T5YIE\",\"T10YIE\",\"DFII10\", \"BAMLH0A0HYM2\", \"SPCBDMI\",\"ICSA\",\"DFF\",\"USD_EUR\"], inplace = True)"
   ]
  },
  {
   "cell_type": "code",
   "execution_count": null,
   "id": "20df76c6-02f9-4607-a9cb-ce23bf805092",
   "metadata": {},
   "outputs": [],
   "source": [
    "# inflation 2021-2022\n",
    "macro_df1['INF'] = macro_df1['INF'] * 3\n",
    "macro_df1\n"
   ]
  },
  {
   "cell_type": "code",
   "execution_count": null,
   "id": "084644b4-8801-4de8-9142-22fba4378b61",
   "metadata": {},
   "outputs": [],
   "source": [
    "macro_df2017= macro_df.loc['2017-01-01':'2021-01-01'].copy()"
   ]
  },
  {
   "cell_type": "code",
   "execution_count": null,
   "id": "d3d7db9a-465c-4aee-8dae-a8e3b0fdaf76",
   "metadata": {},
   "outputs": [],
   "source": [
    "macro_df2017['INF'] = macro_df2017['INF'] * 2"
   ]
  },
  {
   "cell_type": "code",
   "execution_count": null,
   "id": "03552013-0869-4267-86d3-c1e9b52f9041",
   "metadata": {},
   "outputs": [],
   "source": [
    "macro_df2017.drop(columns=[\"VVIX\", \"SPX_Vol\", \"VIXFVolChange\", \"USD_RUB\",\"T5YIE\",\"T10YIE\",\"DFII10\", \"BAMLH0A0HYM2\", \"SPCBDMI\",\"ICSA\",\"DFF\",\"USD_EUR\"], inplace = True)"
   ]
  },
  {
   "cell_type": "code",
   "execution_count": null,
   "id": "665a8100-3548-4fe9-bbd3-ace4fa13d54b",
   "metadata": {},
   "outputs": [],
   "source": [
    "infboosted_df = pd.concat([macro_df2017, macro_df1])\n"
   ]
  },
  {
   "cell_type": "code",
   "execution_count": null,
   "id": "00ad3469-c480-44e5-9cdc-7c9fddb5bfa0",
   "metadata": {},
   "outputs": [],
   "source": [
    "infboosted_df"
   ]
  },
  {
   "cell_type": "code",
   "execution_count": null,
   "id": "b0a226c4-451b-485d-8771-9c238e5d0f93",
   "metadata": {},
   "outputs": [],
   "source": [
    "disboosted_df1= (infboosted_df['INFECTDISEMVTRACKD'] * 1.5).loc['2020-02-24':'2020-03-30']"
   ]
  },
  {
   "cell_type": "code",
   "execution_count": null,
   "id": "5371ee70-bb72-40ad-b18c-34d673ca561f",
   "metadata": {},
   "outputs": [],
   "source": [
    "disboosted_df1"
   ]
  },
  {
   "cell_type": "code",
   "execution_count": null,
   "id": "d9e76015-7542-4740-ae9a-2c8f2afe726c",
   "metadata": {},
   "outputs": [],
   "source": [
    "disboosted_df1 = pd.DataFrame(disboosted_df1)"
   ]
  },
  {
   "cell_type": "code",
   "execution_count": null,
   "id": "0ee401b6-cc8c-4230-b2c2-5345ef025269",
   "metadata": {},
   "outputs": [],
   "source": [
    "disboosted_df1= disboosted_df1.reset_index()"
   ]
  },
  {
   "cell_type": "code",
   "execution_count": null,
   "id": "2e807a10-2921-4037-8c70-ed4bf12fbcea",
   "metadata": {},
   "outputs": [],
   "source": [
    "disboosted_df1.dtypes"
   ]
  },
  {
   "cell_type": "code",
   "execution_count": null,
   "id": "aa4822cd-b62f-45ee-b5b1-6e46cc9983dc",
   "metadata": {},
   "outputs": [],
   "source": [
    "disboosted_df1['QUOTE_READTIME'] = pd.to_datetime(disboosted_df1['QUOTE_READTIME'])"
   ]
  },
  {
   "cell_type": "code",
   "execution_count": null,
   "id": "8b814ed8-d83d-46bf-888c-a5ad1283417b",
   "metadata": {},
   "outputs": [],
   "source": [
    "disboosted_df1.set_index('QUOTE_READTIME')"
   ]
  },
  {
   "cell_type": "code",
   "execution_count": null,
   "id": "97089c0c-1fcc-49ed-a280-98c931d7855a",
   "metadata": {},
   "outputs": [],
   "source": [
    "n = 54\n",
    "disboosted_df2 = pd.concat([disboosted_df1] * (n+1), axis=0, ignore_index=True)"
   ]
  },
  {
   "cell_type": "code",
   "execution_count": null,
   "id": "4ccb6abd-ce57-4781-9281-1c58bce237e3",
   "metadata": {},
   "outputs": [],
   "source": [
    "disboosted_df2.set_index(('QUOTE_READTIME'), inplace = True)"
   ]
  },
  {
   "cell_type": "code",
   "execution_count": null,
   "id": "4514ed41-0a36-4d4d-8c40-546c57685de8",
   "metadata": {},
   "outputs": [],
   "source": [
    "disboosted_df2"
   ]
  },
  {
   "cell_type": "code",
   "execution_count": null,
   "id": "26feab3c-7815-4e1c-9584-6a272654050e",
   "metadata": {},
   "outputs": [],
   "source": [
    "infboosted_df.drop(columns=['INFECTDISEMVTRACKD'], inplace = True)"
   ]
  },
  {
   "cell_type": "code",
   "execution_count": null,
   "id": "240c6d50-e546-422c-a715-d93794cbcfef",
   "metadata": {},
   "outputs": [],
   "source": [
    "infboosted_df"
   ]
  },
  {
   "cell_type": "code",
   "execution_count": null,
   "id": "c520a6f9-5450-40a7-a151-121d25220dc0",
   "metadata": {},
   "outputs": [],
   "source": [
    "infboosted_df= infboosted_df.reset_index()"
   ]
  },
  {
   "cell_type": "code",
   "execution_count": null,
   "id": "1f81a25d-7d5e-440b-8c4d-9bfba34b2dd6",
   "metadata": {},
   "outputs": [],
   "source": [
    "infboosted_df.dtypes"
   ]
  },
  {
   "cell_type": "code",
   "execution_count": null,
   "id": "c452d38e-4720-4705-a355-effffcf01127",
   "metadata": {},
   "outputs": [],
   "source": [
    "inf_dis = pd.merge_asof(infboosted_df, disboosted_df2, on='QUOTE_READTIME')"
   ]
  },
  {
   "cell_type": "code",
   "execution_count": null,
   "id": "070d62af-bc63-47e2-9e0f-aac3376c9edb",
   "metadata": {},
   "outputs": [],
   "source": [
    "inf_dis"
   ]
  },
  {
   "cell_type": "code",
   "execution_count": null,
   "id": "a01c22a9-b4fd-4f19-9de8-96dd066f41b4",
   "metadata": {},
   "outputs": [],
   "source": [
    "inf_dis.to_csv(\"D:\\SPX\\inf_dis.csv\", index=None)"
   ]
  },
  {
   "cell_type": "markdown",
   "id": "b08804d7-f85e-44b3-b602-de2c31e318c9",
   "metadata": {},
   "source": [
    "## __Scenario B__ : \n",
    "In this scenario we explore the outcome if all currencies continue to rapidly devalue and cryptocurrency becomes the main currency in the world.\n",
    "   "
   ]
  },
  {
   "cell_type": "code",
   "execution_count": null,
   "id": "cc41fb9d-3264-4e22-884c-14d6757c8fd7",
   "metadata": {},
   "outputs": [],
   "source": []
  },
  {
   "cell_type": "code",
   "execution_count": null,
   "id": "21f84679-e1f3-4d34-8dc1-9534354f9eae",
   "metadata": {},
   "outputs": [],
   "source": [
    "macro_df2 = pd.read_csv(\n",
    "    Path(\"./Resources/macro_df.csv\"),\n",
    "    index_col='QUOTE_READTIME',\n",
    "    parse_dates=True,\n",
    "    infer_datetime_format=True\n",
    ") "
   ]
  },
  {
   "cell_type": "code",
   "execution_count": null,
   "id": "fd56907e-c8ec-4264-91d5-8d9ac7316b13",
   "metadata": {},
   "outputs": [],
   "source": [
    "macro_df2.drop(columns=[\"VVIX\", \"VIXFVolChange\", \"BAMLH0A0HYM2\",\"INFECTDISEMVTRACKD\",\"SPX_Vol\",\"GSCPI\",\"DFII10\"])"
   ]
  },
  {
   "cell_type": "code",
   "execution_count": null,
   "id": "60022bfe-bef4-412f-be94-a79c9642a4c1",
   "metadata": {},
   "outputs": [],
   "source": [
    "macro_df2 = pd.merge_asof(macro_df2, inf_df, on='QUOTE_READTIME')"
   ]
  },
  {
   "cell_type": "code",
   "execution_count": null,
   "id": "80683690-5304-43a7-a0c0-8aeaafbd9d54",
   "metadata": {},
   "outputs": [],
   "source": []
  },
  {
   "cell_type": "markdown",
   "id": "4f00dc07-31b0-4d3b-8237-e62c1cc54f1f",
   "metadata": {},
   "source": [
    "## __Scenario C__: \n",
    "In this scenario we are exploring a situation where the US is facing hyperinflation. Financial conditions are tight, unemployment is skyrocketing, the dollar is climbing while losing value against the EUR, and the Fed rate is at a never seen before level."
   ]
  },
  {
   "cell_type": "code",
   "execution_count": null,
   "id": "29ac67bb-25a8-4358-945c-11ef4f92fb96",
   "metadata": {},
   "outputs": [],
   "source": [
    "macro_df3 = pd.read_csv(\n",
    "    Path(\"./Resources/macro_df.csv\"),\n",
    "    index_col='QUOTE_READTIME',\n",
    "    parse_dates=True,\n",
    "    infer_datetime_format=True\n",
    ") "
   ]
  },
  {
   "cell_type": "code",
   "execution_count": null,
   "id": "c954f57f-3236-4159-82ca-e796a1529b5e",
   "metadata": {},
   "outputs": [],
   "source": [
    "macro_df3.drop(columns=[\"VVIX\", \"VIXFVolChange\", \"USD_RUB\", \"BAMLH0A0HYM2\", \"SPCBDMI\",\"OVX\",\"INFECTDISEMVTRACKD\",\"SPX_Vol\",\"GSCPI\",\"DFII10\"])"
   ]
  },
  {
   "cell_type": "code",
   "execution_count": null,
   "id": "54592974-23b1-457f-867d-56ae2da778bb",
   "metadata": {},
   "outputs": [],
   "source": [
    "macro_df3 = pd.merge_asof(macro_df3, inf_df, on='QUOTE_READTIME')"
   ]
  },
  {
   "cell_type": "code",
   "execution_count": null,
   "id": "e5e83ebb-1a39-456c-9793-c0fbe190e155",
   "metadata": {},
   "outputs": [],
   "source": []
  }
 ],
 "metadata": {
  "kernelspec": {
   "display_name": "Python 3 (ipykernel)",
   "language": "python",
   "name": "python3"
  },
  "language_info": {
   "codemirror_mode": {
    "name": "ipython",
    "version": 3
   },
   "file_extension": ".py",
   "mimetype": "text/x-python",
   "name": "python",
   "nbconvert_exporter": "python",
   "pygments_lexer": "ipython3",
   "version": "3.7.13"
  }
 },
 "nbformat": 4,
 "nbformat_minor": 5
}
